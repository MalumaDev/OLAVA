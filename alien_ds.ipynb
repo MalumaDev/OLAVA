{
 "cells": [
  {
   "cell_type": "code",
   "id": "initial_id",
   "metadata": {
    "collapsed": true,
    "ExecuteTime": {
     "end_time": "2024-06-03T10:11:25.243987Z",
     "start_time": "2024-06-03T10:11:25.230092Z"
    }
   },
   "source": [
    "from pathlib import Path\n",
    "import json"
   ],
   "outputs": [],
   "execution_count": 15
  },
  {
   "metadata": {
    "ExecuteTime": {
     "end_time": "2024-06-03T10:11:25.395960Z",
     "start_time": "2024-06-03T10:11:25.389949Z"
    }
   },
   "cell_type": "code",
   "source": [
    "path = Path(\"E:\\projects\\MMFM-Challenge\\data\\processed_data\")\n",
    "baseout = Path(\"data/processed_data/\")\n",
    "folders = [\"mydoc\", \"mychart\", \"myinfographic\"]"
   ],
   "id": "d14344507cebcc36",
   "outputs": [],
   "execution_count": 16
  },
  {
   "metadata": {
    "ExecuteTime": {
     "end_time": "2024-06-03T10:11:25.593894Z",
     "start_time": "2024-06-03T10:11:25.546808Z"
    }
   },
   "cell_type": "code",
   "source": [
    "for f in folders:\n",
    "    new_path = path / f / \"annot_wo_answer.json\"\n",
    "    with open(new_path, \"r\") as file:\n",
    "        data = json.load(file)\n",
    "    for i in range(len(data)):\n",
    "        data[i][\"image\"] = str(baseout / f / \"images\" /data[i][\"image\"])\n",
    "        if len(data[i][\"conversations\"]) == 1:\n",
    "            data[i][\"conversations\"].append({\"from\": \"gpt\", \"value\": \"\"})\n",
    "            \n",
    "        \n",
    "    with open(new_path.with_name(\"converted_output_test.json\"), \"w\") as file:\n",
    "        json.dump(data, file, indent=4)\n",
    "        "
   ],
   "id": "3c7537ee743561f1",
   "outputs": [],
   "execution_count": 17
  },
  {
   "metadata": {
    "ExecuteTime": {
     "end_time": "2024-06-03T10:11:25.700837Z",
     "start_time": "2024-06-03T10:11:25.696770Z"
    }
   },
   "cell_type": "code",
   "source": "data[0][\"conversations\"]",
   "id": "4f3257e5cb30c63",
   "outputs": [
    {
     "data": {
      "text/plain": [
       "[{'from': 'human',\n",
       "  'value': '<image>\\nCan you list at least three food pairings for basil as per the infographic?'},\n",
       " {'from': 'gpt', 'value': ''}]"
      ]
     },
     "execution_count": 18,
     "metadata": {},
     "output_type": "execute_result"
    }
   ],
   "execution_count": 18
  },
  {
   "metadata": {
    "ExecuteTime": {
     "end_time": "2024-06-03T10:11:25.882774Z",
     "start_time": "2024-06-03T10:11:25.868796Z"
    }
   },
   "cell_type": "code",
   "source": "path = Path(\"E:\\projects\\MMFM-Challenge\\data\\processed_data\")",
   "id": "30c189eeb363d6a6",
   "outputs": [],
   "execution_count": 18
  },
  {
   "metadata": {
    "ExecuteTime": {
     "end_time": "2024-06-03T10:22:09.400023Z",
     "start_time": "2024-06-03T10:22:09.355196Z"
    }
   },
   "cell_type": "code",
   "source": [
    "\n",
    "for folder in path.glob(\"*\"):\n",
    "    with open(folder / \"converted_output_test.json\", \"r\") as file:\n",
    "        data = json.load(file)\n",
    "    for i in range(len(data)):\n",
    "        path = folder / \"images\" / data[i][\"image\"]\n",
    "        \n",
    "    "
   ],
   "id": "88508bfb369fb887",
   "outputs": [],
   "execution_count": 21
  },
  {
   "metadata": {
    "ExecuteTime": {
     "end_time": "2024-06-03T10:22:11.394672Z",
     "start_time": "2024-06-03T10:22:11.381837Z"
    }
   },
   "cell_type": "code",
   "source": "path",
   "id": "c47e0dd77d474c40",
   "outputs": [
    {
     "data": {
      "text/plain": [
       "WindowsPath('E:/projects/MMFM-Challenge/data/processed_data/wtq/images/data/raw_datasets/wtq/jpgs/csv_203-csv_801.jpg')"
      ]
     },
     "execution_count": 22,
     "metadata": {},
     "output_type": "execute_result"
    }
   ],
   "execution_count": 22
  },
  {
   "metadata": {
    "ExecuteTime": {
     "end_time": "2024-06-03T12:27:11.719548Z",
     "start_time": "2024-06-03T12:27:07.364424Z"
    }
   },
   "cell_type": "code",
   "source": [
    "import easyocr\n",
    "from img2table.document import Image\n",
    "reader = easyocr.Reader(['en'])"
   ],
   "id": "6a13e1d57a4189b2",
   "outputs": [],
   "execution_count": 24
  },
  {
   "metadata": {
    "ExecuteTime": {
     "end_time": "2024-06-03T12:27:59.874982Z",
     "start_time": "2024-06-03T12:27:47.671065Z"
    }
   },
   "cell_type": "code",
   "source": "reader.readtext(\"data/raw_datasets/docvqa/jpgs/txpp0227_10.jpg\", batch_size=4, workers=4, decoder=\"beamsearch\")",
   "id": "7fef423d997d31a",
   "outputs": [
    {
     "data": {
      "text/plain": [
       "[([[83, 63], [166, 63], [166, 91], [83, 91]], '11:14 to', 0.7030097375095733),\n",
       " ([[210, 66], [338, 66], [338, 90], [210, 90]],\n",
       "  'Coffee Break',\n",
       "  0.9972195865144186),\n",
       " ([[84, 88], [188, 88], [188, 114], [84, 114]],\n",
       "  '11.39 am;',\n",
       "  0.4176029151165071),\n",
       " ([[232, 88], [502, 88], [502, 114], [232, 114]],\n",
       "  'Coffee will be served for men',\n",
       "  0.6489781056440006),\n",
       " ([[496.8905996075495, 92.3358994113243],\n",
       "   [538.7190717760413, 88.9778492142457],\n",
       "   [540.1094003924504, 110.6641005886757],\n",
       "   [498.28092822395865, 113.0221507857543]],\n",
       "  'and',\n",
       "  0.99998946970357),\n",
       " ([[232, 110], [534, 110], [534, 138], [232, 138]],\n",
       "  'women in the lobby adjacent to',\n",
       "  0.8247942731330654),\n",
       " ([[232, 134], [348, 134], [348, 160], [232, 160]],\n",
       "  'exhibit area',\n",
       "  0.9164880055274423),\n",
       " ([[354, 134], [522, 134], [522, 160], [354, 160]],\n",
       "  'Please move into',\n",
       "  0.9998139864054497),\n",
       " ([[230, 156], [516, 156], [516, 182], [230, 182]],\n",
       "  'exhibit area. (Exhibits Open)',\n",
       "  0.8151921698886126),\n",
       " ([[86, 206], [186, 206], [186, 232], [86, 232]],\n",
       "  '11.39 a.m;',\n",
       "  0.5952537512118744),\n",
       " ([[210, 206], [544, 206], [544, 232], [210, 232]],\n",
       "  'TRRF GENERAL SESSION (PART I)',\n",
       "  0.6471725146868808),\n",
       " ([[211, 234], [312, 234], [312, 266], [211, 266]],\n",
       "  'Presiding:',\n",
       "  0.9997880904993662),\n",
       " ([[318, 238], [380, 238], [380, 262], [318, 262]],\n",
       "  'Lee A',\n",
       "  0.5975866653346372),\n",
       " ([[386, 238], [452, 238], [452, 262], [386, 262]],\n",
       "  'Waller',\n",
       "  0.999988173906038),\n",
       " ([[320, 260], [520, 260], [520, 286], [320, 286]],\n",
       "  'TRRF Vice President',\n",
       "  0.716443538875761),\n",
       " ([[207, 313], [456, 313], [456, 342], [207, 342]],\n",
       "  '\"Introductory Remarks\"',\n",
       "  0.6152040155334468),\n",
       " ([[86, 316], [166, 316], [166, 340], [86, 340]],\n",
       "  '11.39 to',\n",
       "  0.6026724735846638),\n",
       " ([[428.9230627620734, 335.19996318139084],\n",
       "   [477.8399497181504, 342.0332086065871],\n",
       "   [474.0769372379266, 366.80003681860916],\n",
       "   [425.1600502818496, 359.9667913934129]],\n",
       "  'Vice',\n",
       "  0.9998639225959778),\n",
       " ([[86, 340], [190, 340], [190, 364], [86, 364]],\n",
       "  '11.44 a.m.',\n",
       "  0.4735054671184019),\n",
       " ([[300, 340], [428, 340], [428, 364], [300, 364]],\n",
       "  'Waller, TRRF',\n",
       "  0.782918623814098),\n",
       " ([[476, 340], [536, 340], [536, 364], [476, 364]],\n",
       "  'Presi-',\n",
       "  0.9984977857122606),\n",
       " ([[233, 343], [291, 343], [291, 363], [233, 363]],\n",
       "  'Lee A',\n",
       "  0.6497426462204227),\n",
       " ([[235, 365], [281, 365], [281, 385], [235, 385]],\n",
       "  'dent',\n",
       "  0.9999901056289673),\n",
       " ([[208, 414], [530, 414], [530, 442], [208, 442]],\n",
       "  'Individual Interviews with TRRF',\n",
       "  0.8958918380152369),\n",
       " ([[86, 418], [186, 418], [186, 442], [86, 442]],\n",
       "  '11.44 a.m;',\n",
       "  0.3900451791173011),\n",
       " ([[210, 440], [530, 440], [530, 464], [210, 464]],\n",
       "  'Public Board Members and Sci-',\n",
       "  0.7850513479744069),\n",
       " ([[124, 442], [148, 442], [148, 466], [124, 466]], 'to', 0.9951361008982689),\n",
       " ([[208, 459], [516, 459], [516, 490], [208, 490]],\n",
       "  'entific Advisory Council Mem-',\n",
       "  0.8089584701097922),\n",
       " ([[86, 464], [188, 464], [188, 490], [86, 490]],\n",
       "  '12.25 p.m;',\n",
       "  0.5935066086732416),\n",
       " ([[208, 486], [260, 486], [260, 510], [208, 510]],\n",
       "  'bers',\n",
       "  0.9999004602432251),\n",
       " ([[232, 508], [524, 508], [524, 536], [232, 536]],\n",
       "  'Conducted by TRRF Treasurer',\n",
       "  0.5964326894302517),\n",
       " ([[232, 532], [314, 532], [314, 558], [232, 558]],\n",
       "  'Philip G',\n",
       "  0.6729632788661329),\n",
       " ([[322, 532], [410, 532], [410, 556], [322, 556]],\n",
       "  'Kuehn to',\n",
       "  0.7073269565724203),\n",
       " ([[447, 535], [529, 535], [529, 555], [447, 555]],\n",
       "  'answers',\n",
       "  0.9999600342928592),\n",
       " ([[408.4789396203098, 535.4141973545267],\n",
       "   [447.39127644446205, 532.1884269360136],\n",
       "   [448.5210603796902, 557.5858026454733],\n",
       "   [409.60872355553795, 560.8115730639864]],\n",
       "  'get',\n",
       "  0.9999726763203935),\n",
       " ([[232, 554], [510, 554], [510, 582], [232, 582]],\n",
       "  'which the public refrigerated',\n",
       "  0.9674465196372618),\n",
       " ([[231, 574], [536, 574], [536, 606], [231, 606]],\n",
       "  'warehousing industry is looking',\n",
       "  0.8211797733929459),\n",
       " ([[230, 602], [540, 602], [540, 626], [230, 626]],\n",
       "  'for. Plus questions from the floor.',\n",
       "  0.785711885228898),\n",
       " ([[210, 623], [540, 623], [540, 650], [210, 650]],\n",
       "  'Dr. Emil M; Mrak; University of Cal-',\n",
       "  0.43139613655413983),\n",
       " ([[210, 646], [380, 646], [380, 672], [210, 672]],\n",
       "  'ifornia, Chairman',\n",
       "  0.9548764392448282),\n",
       " ([[386, 646], [510, 646], [510, 670], [386, 670]],\n",
       "  'TRRF Board;',\n",
       "  0.8856449581014597),\n",
       " ([[210, 667], [538, 667], [538, 696], [210, 696]],\n",
       "  'Sam R. Cecil, University of Georgia',\n",
       "  0.6858660709950659),\n",
       " ([[209, 690], [538, 690], [538, 720], [209, 720]],\n",
       "  'College of Agriculture; Dr. Stanley',\n",
       "  0.7337314201369005),\n",
       " ([[212, 714], [532, 714], [532, 742], [212, 742]],\n",
       "  'Charm, Tufts University School of',\n",
       "  0.6366918879040862),\n",
       " ([[212, 738], [430, 738], [430, 762], [212, 762]],\n",
       "  'Medicine; Dr. Robert H',\n",
       "  0.7298171003935209),\n",
       " ([[436, 738], [540, 738], [540, 762], [436, 762]],\n",
       "  'Cotton, ITT',\n",
       "  0.9452238566505987),\n",
       " ([[212, 760], [532, 760], [532, 789], [212, 789]],\n",
       "  'Continental Baking Company; Dr.',\n",
       "  0.549461109312286),\n",
       " ([[212, 783], [540, 783], [540, 813], [212, 813]],\n",
       "  'Owen Fennema, University of Wis-',\n",
       "  0.7725370983556993),\n",
       " ([[211, 806], [538, 806], [538, 834], [211, 834]],\n",
       "  'consin; Dr Robert E. Hardenburg,',\n",
       "  0.5760088038149531),\n",
       " ([[212, 830], [274, 830], [274, 854], [212, 854]],\n",
       "  'USDA',\n",
       "  0.9999813437461853),\n",
       " ([[86, 876], [168, 876], [168, 900], [86, 900]],\n",
       "  '12.25 to',\n",
       "  0.9585458268293253),\n",
       " ([[212, 876], [440, 876], [440, 900], [212, 900]],\n",
       "  'Questions and Answers',\n",
       "  0.8874094513142999),\n",
       " ([[86, 898], [188, 898], [188, 924], [86, 924]],\n",
       "  '12.58 p.m:',\n",
       "  0.39447208124958716),\n",
       " ([[86, 944], [168, 944], [168, 968], [86, 968]],\n",
       "  '12.58 to',\n",
       "  0.5999045464458828),\n",
       " ([[212, 944], [358, 944], [358, 970], [212, 970]],\n",
       "  'Exhibits Open',\n",
       "  0.9498212392515377),\n",
       " ([[308, 965], [544, 965], [544, 995], [308, 995]],\n",
       "  'Capt; Jack Stoney Room',\n",
       "  0.6618444140187454),\n",
       " ([[86, 968], [176, 968], [176, 994], [86, 994]],\n",
       "  '4.00 p.m.',\n",
       "  0.46037202379788544),\n",
       " ([[210, 1010], [466, 1010], [466, 1040], [210, 1040]],\n",
       "  'TRRF Scientific Advisory',\n",
       "  0.9994097481118939),\n",
       " ([[86, 1012], [158, 1012], [158, 1038], [86, 1038]],\n",
       "  '2.00 to',\n",
       "  0.6111376174025057),\n",
       " ([[209, 1032], [377, 1032], [377, 1064], [209, 1064]],\n",
       "  'Council Meeting',\n",
       "  0.9575412809562969),\n",
       " ([[86, 1036], [180, 1036], [180, 1062], [86, 1062]],\n",
       "  '5.00 p.m:',\n",
       "  0.6787713596296288),\n",
       " ([[396, 1057], [546, 1057], [546, 1087], [396, 1087]],\n",
       "  'Ballroom Foyer',\n",
       "  0.7437095695213337)]"
      ]
     },
     "execution_count": 26,
     "metadata": {},
     "output_type": "execute_result"
    }
   ],
   "execution_count": 26
  },
  {
   "metadata": {},
   "cell_type": "code",
   "outputs": [],
   "execution_count": null,
   "source": "",
   "id": "6d4f3dee72649af2"
  }
 ],
 "metadata": {
  "kernelspec": {
   "display_name": "Python 3",
   "language": "python",
   "name": "python3"
  },
  "language_info": {
   "codemirror_mode": {
    "name": "ipython",
    "version": 2
   },
   "file_extension": ".py",
   "mimetype": "text/x-python",
   "name": "python",
   "nbconvert_exporter": "python",
   "pygments_lexer": "ipython2",
   "version": "2.7.6"
  }
 },
 "nbformat": 4,
 "nbformat_minor": 5
}
